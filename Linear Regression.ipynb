{
 "cells": [
  {
   "cell_type": "code",
   "execution_count": 1,
   "metadata": {},
   "outputs": [],
   "source": [
    "# Import required libraries\n",
    "\n",
    "import pandas as pd\n",
    "import numpy as np\n",
    "import matplotlib.pyplot as plt\n",
    "\n",
    "%matplotlib inline"
   ]
  },
  {
   "cell_type": "code",
   "execution_count": 3,
   "metadata": {},
   "outputs": [
    {
     "data": {
      "text/html": [
       "<div>\n",
       "<style scoped>\n",
       "    .dataframe tbody tr th:only-of-type {\n",
       "        vertical-align: middle;\n",
       "    }\n",
       "\n",
       "    .dataframe tbody tr th {\n",
       "        vertical-align: top;\n",
       "    }\n",
       "\n",
       "    .dataframe thead th {\n",
       "        text-align: right;\n",
       "    }\n",
       "</style>\n",
       "<table border=\"1\" class=\"dataframe\">\n",
       "  <thead>\n",
       "    <tr style=\"text-align: right;\">\n",
       "      <th></th>\n",
       "      <th>ID</th>\n",
       "      <th>TV</th>\n",
       "      <th>Radio</th>\n",
       "      <th>Newspaper</th>\n",
       "      <th>Sales</th>\n",
       "    </tr>\n",
       "  </thead>\n",
       "  <tbody>\n",
       "    <tr>\n",
       "      <th>0</th>\n",
       "      <td>1</td>\n",
       "      <td>230.1</td>\n",
       "      <td>37.8</td>\n",
       "      <td>69.2</td>\n",
       "      <td>22.1</td>\n",
       "    </tr>\n",
       "    <tr>\n",
       "      <th>1</th>\n",
       "      <td>2</td>\n",
       "      <td>44.5</td>\n",
       "      <td>39.3</td>\n",
       "      <td>45.1</td>\n",
       "      <td>10.4</td>\n",
       "    </tr>\n",
       "    <tr>\n",
       "      <th>2</th>\n",
       "      <td>3</td>\n",
       "      <td>17.2</td>\n",
       "      <td>45.9</td>\n",
       "      <td>69.3</td>\n",
       "      <td>9.3</td>\n",
       "    </tr>\n",
       "    <tr>\n",
       "      <th>3</th>\n",
       "      <td>4</td>\n",
       "      <td>151.5</td>\n",
       "      <td>41.3</td>\n",
       "      <td>58.5</td>\n",
       "      <td>18.5</td>\n",
       "    </tr>\n",
       "    <tr>\n",
       "      <th>4</th>\n",
       "      <td>5</td>\n",
       "      <td>180.8</td>\n",
       "      <td>10.8</td>\n",
       "      <td>58.4</td>\n",
       "      <td>12.9</td>\n",
       "    </tr>\n",
       "  </tbody>\n",
       "</table>\n",
       "</div>"
      ],
      "text/plain": [
       "   ID     TV  Radio  Newspaper  Sales\n",
       "0   1  230.1   37.8       69.2   22.1\n",
       "1   2   44.5   39.3       45.1   10.4\n",
       "2   3   17.2   45.9       69.3    9.3\n",
       "3   4  151.5   41.3       58.5   18.5\n",
       "4   5  180.8   10.8       58.4   12.9"
      ]
     },
     "execution_count": 3,
     "metadata": {},
     "output_type": "execute_result"
    }
   ],
   "source": [
    "# Data Extraction\n",
    "\n",
    "df = pd.read_csv(\"Advertising.csv\")\n",
    "df.columns = ['ID', 'TV', 'Radio', 'Newspaper', 'Sales']\n",
    "df.head()"
   ]
  },
  {
   "cell_type": "code",
   "execution_count": 8,
   "metadata": {},
   "outputs": [
    {
     "data": {
      "image/png": "[encoded data removed]",
      "text/plain": [
       "<Figure size 432x288 with 1 Axes>"
      ]
     },
     "metadata": {},
     "output_type": "display_data"
    }
   ],
   "source": [
    "# Data Visualization for TV - Sales\n",
    "\n",
    "plt.plot(df.TV, df.Sales, 'ro')\n",
    "plt.xlabel('TV')\n",
    "plt.ylabel('Sales')\n",
    "plt.show()"
   ]
  },
  {
   "cell_type": "code",
   "execution_count": 64,
   "metadata": {},
   "outputs": [
    {
     "name": "stdout",
     "output_type": "stream",
     "text": [
      "Coefficient: \n",
      "[0.04680324]\n",
      "Intercept: \n",
      "7.203233941479038\n",
      "Accuracy: \n",
      "0.7037131274342319\n",
      "Mean Squared Error: \n",
      "9.578124986808099\n",
      "Variance Score: \n",
      " 0.70\n",
      "Root Mean Squared Error (TV - Sales): \n",
      " 3.09\n"
     ]
    },
    {
     "data": {
      "image/png": "[encoded data removed]",
      "text/plain": [
       "<Figure size 432x288 with 1 Axes>"
      ]
     },
     "metadata": {},
     "output_type": "display_data"
    }
   ],
   "source": [
    "# Linear Regression for TV - Sales\n",
    "\n",
    "from sklearn.linear_model import LinearRegression\n",
    "from sklearn.cross_validation import train_test_split\n",
    "from sklearn.metrics import mean_squared_error, r2_score\n",
    "\n",
    "# X = np.asarray(df.TV).reshape(-1, 1)\n",
    "X = df[['TV']]\n",
    "Y = df.Sales\n",
    "\n",
    "X_train, X_test, Y_train, Y_test = train_test_split(X, Y)\n",
    "lin_reg = LinearRegression()\n",
    "lin_reg.fit(X_train, Y_train)\n",
    "print \"Coefficient: \\n\", lin_reg.coef_\n",
    "print \"Intercept: \\n\", lin_reg.intercept_\n",
    "print \"Accuracy: \\n\", lin_reg.score(X_test, Y_test)\n",
    "Y_pred = lin_reg.predict(X_test)\n",
    "print \"Mean Squared Error: \\n\", mean_squared_error(Y_test, Y_pred)\n",
    "print \"Variance Score: \\n %.2f\" % r2_score(Y_test, Y_pred)\n",
    "RMSE_TV_Sales = np.sqrt(mean_squared_error(Y_test, Y_pred))\n",
    "print \"Root Mean Squared Error (TV - Sales): \\n %.2f\" % RMSE_TV_Sales\n",
    "\n",
    "# Plot Outputs\n",
    "plt.scatter(X_test, Y_test, color='black')\n",
    "plt.plot(X_test, Y_pred, color='blue', linewidth=3)\n",
    "plt.xticks(())\n",
    "plt.yticks(())\n",
    "plt.show()"
   ]
  },
  {
   "cell_type": "code",
   "execution_count": 51,
   "metadata": {},
   "outputs": [
    {
     "data": {
      "image/png": "[encoded data removed]",
      "text/plain": [
       "<Figure size 432x288 with 1 Axes>"
      ]
     },
     "metadata": {},
     "output_type": "display_data"
    }
   ],
   "source": [
    "# Data Visualization for Radio - Sales\n",
    "\n",
    "plt.plot(df.Radio, df.Sales, 'ro')\n",
    "plt.xlabel('Radio')\n",
    "plt.ylabel('Sales')\n",
    "plt.show()"
   ]
  },
  {
   "cell_type": "code",
   "execution_count": 66,
   "metadata": {},
   "outputs": [
    {
     "name": "stdout",
     "output_type": "stream",
     "text": [
      "Coefficient: \n",
      "[0.04660234 0.18117959]\n",
      "Intercept: \n",
      "2.9272373202664834\n",
      "Accuracy: \n",
      "0.9176214942248908\n",
      "Mean Squared Error: \n",
      "1.926276041866742\n",
      "Variance Score: \n",
      " 0.92\n",
      "Root Mean Squared Error (TV - Sales): \n",
      "1.3879034699382886\n"
     ]
    }
   ],
   "source": [
    "# Linear Regression for TV & Radio - Sales\n",
    "\n",
    "from sklearn.linear_model import LinearRegression\n",
    "from sklearn.cross_validation import train_test_split\n",
    "from sklearn import metrics\n",
    "\n",
    "feature_names = ['TV', 'Radio']\n",
    "\n",
    "# X = np.asarray(df.TV, df.Radio).reshape(-1, 1)\n",
    "# Y = np.asarray(df.Sales).reshape(-1, 1)\n",
    "X = df[feature_names]\n",
    "Y = df.Sales\n",
    "\n",
    "X_train, X_test, Y_train, Y_test = train_test_split(X, Y, random_state=1)\n",
    "lin_reg = LinearRegression()\n",
    "lin_reg.fit(X_train, Y_train)\n",
    "print \"Coefficient: \\n\", lin_reg.coef_\n",
    "print \"Intercept: \\n\", lin_reg.intercept_\n",
    "print \"Accuracy: \\n\", lin_reg.score(X_test, Y_test)\n",
    "Y_pred = lin_reg.predict(X_test)\n",
    "print \"Mean Squared Error: \\n\", mean_squared_error(Y_test, Y_pred)\n",
    "print \"Variance Score: \\n %.2f\" % r2_score(Y_test, Y_pred)\n",
    "RMSE_TV_Radio_Sales = np.sqrt(mean_squared_error(Y_test, Y_pred))\n",
    "print \"Root Mean Squared Error (TV - Sales): \\n\", RMSE_TV_Radio_Sales"
   ]
  },
  {
   "cell_type": "code",
   "execution_count": 33,
   "metadata": {},
   "outputs": [
    {
     "data": {
      "image/png": "[encoded data removed]",
      "text/plain": [
       "<Figure size 432x288 with 1 Axes>"
      ]
     },
     "metadata": {},
     "output_type": "display_data"
    }
   ],
   "source": [
    "# Data Visualization for Newspaper - Sales\n",
    "\n",
    "plt.plot(df.Newspaper, df.Sales, 'ro')\n",
    "plt.xlabel('Newspaper')\n",
    "plt.ylabel('Sales')\n",
    "plt.show()"
   ]
  },
  {
   "cell_type": "code",
   "execution_count": 67,
   "metadata": {},
   "outputs": [
    {
     "name": "stdout",
     "output_type": "stream",
     "text": [
      "Coefficient: \n",
      "[0.04656457 0.17915812 0.00345046]\n",
      "Intercept: \n",
      "2.8769666223179318\n",
      "Accuracy: \n",
      "0.9156213613792233\n",
      "Mean Squared Error: \n",
      "1.9730456202283375\n",
      "Variance Score: \n",
      " 0.92\n",
      "Root Mean Squared Error (TV - Sales): \n",
      "1.4046514230328953\n"
     ]
    }
   ],
   "source": [
    "# Linear Regression for TV, Radio & Newspaper - Sales\n",
    "\n",
    "from sklearn.linear_model import LinearRegression\n",
    "from sklearn.cross_validation import train_test_split\n",
    "from sklearn import metrics\n",
    "\n",
    "feature_names = ['TV', 'Radio', 'Newspaper']\n",
    "\n",
    "X = df[feature_names]\n",
    "Y = df.Sales\n",
    "\n",
    "X_train, X_test, Y_train, Y_test = train_test_split(X, Y, random_state=1)\n",
    "lin_reg = LinearRegression()\n",
    "lin_reg.fit(X_train, Y_train)\n",
    "print \"Coefficient: \\n\", lin_reg.coef_\n",
    "print \"Intercept: \\n\", lin_reg.intercept_\n",
    "print \"Accuracy: \\n\", lin_reg.score(X_test, Y_test)\n",
    "Y_pred = lin_reg.predict(X_test)\n",
    "print \"Mean Squared Error: \\n\", mean_squared_error(Y_test, Y_pred)\n",
    "print \"Variance Score: \\n %.2f\" % r2_score(Y_test, Y_pred)\n",
    "RMSE_TV_Radio_Newspaper_Sales = np.sqrt(mean_squared_error(Y_test, Y_pred))\n",
    "print \"Root Mean Squared Error (TV - Sales): \\n\", RMSE_TV_Radio_Newspaper_Sales"
   ]
  }
 ],
 "metadata": {
  "kernelspec": {
   "display_name": "Python 2",
   "language": "python",
   "name": "python2"
  },
  "language_info": {
   "codemirror_mode": {
    "name": "ipython",
    "version": 2
   },
   "file_extension": ".py",
   "mimetype": "text/x-python",
   "name": "python",
   "nbconvert_exporter": "python",
   "pygments_lexer": "ipython2",
   "version": "2.7.15"
  }
 },
 "nbformat": 4,
 "nbformat_minor": 2
}
